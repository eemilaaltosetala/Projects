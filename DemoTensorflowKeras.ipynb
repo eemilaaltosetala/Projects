{
  "nbformat": 4,
  "nbformat_minor": 0,
  "metadata": {
    "colab": {
      "name": "DemoTensorflowKeras.ipynb",
      "provenance": [],
      "authorship_tag": "ABX9TyMX0osCpPvFAb/yDjQ377tK",
      "include_colab_link": true
    },
    "kernelspec": {
      "name": "python3",
      "display_name": "Python 3"
    },
    "language_info": {
      "name": "python"
    }
  },
  "cells": [
    {
      "cell_type": "markdown",
      "metadata": {
        "id": "view-in-github",
        "colab_type": "text"
      },
      "source": [
        "<a href=\"https://colab.research.google.com/github/eemilaaltosetala/Projects/blob/main/DemoTensorflowKeras.ipynb\" target=\"_parent\"><img src=\"https://colab.research.google.com/assets/colab-badge.svg\" alt=\"Open In Colab\"/></a>"
      ]
    },
    {
      "cell_type": "code",
      "metadata": {
        "id": "aL5y1m_mDPXk"
      },
      "source": [
        "from __future__ import print_function\n",
        "import tensorflow.keras\n",
        "from tensorflow.keras.datasets import fashion_mnist\n",
        "from tensorflow.keras.models import Sequential\n",
        "from tensorflow.keras.layers import Dense, Dropout, Flatten\n",
        "from tensorflow.keras.callbacks import EarlyStopping\n",
        "import numpy as np\n",
        "import matplotlib.pyplot as plt\n"
      ],
      "execution_count": 2,
      "outputs": []
    },
    {
      "cell_type": "code",
      "metadata": {
        "id": "HeF1MgrLE_0K"
      },
      "source": [
        "#luokkien nimet\n",
        "class_names = ['T-shirt/top', 'Trouser', 'Pullover', 'Dress', 'Coat', 'Sandal', 'Shirt', 'Sneaker', 'Bag', 'Ankle boot']"
      ],
      "execution_count": 3,
      "outputs": []
    },
    {
      "cell_type": "code",
      "metadata": {
        "id": "MvEx8SUOFbXM",
        "colab": {
          "base_uri": "https://localhost:8080/"
        },
        "outputId": "6ba29b39-3bc8-403e-da4e-5271a585cf9e"
      },
      "source": [
        "#ladataan data\n",
        "(x_train, y_train), (x_test, y_test) = fashion_mnist.load_data()"
      ],
      "execution_count": 4,
      "outputs": [
        {
          "output_type": "stream",
          "name": "stdout",
          "text": [
            "Downloading data from https://storage.googleapis.com/tensorflow/tf-keras-datasets/train-labels-idx1-ubyte.gz\n",
            "32768/29515 [=================================] - 0s 0us/step\n",
            "40960/29515 [=========================================] - 0s 0us/step\n",
            "Downloading data from https://storage.googleapis.com/tensorflow/tf-keras-datasets/train-images-idx3-ubyte.gz\n",
            "26427392/26421880 [==============================] - 0s 0us/step\n",
            "26435584/26421880 [==============================] - 0s 0us/step\n",
            "Downloading data from https://storage.googleapis.com/tensorflow/tf-keras-datasets/t10k-labels-idx1-ubyte.gz\n",
            "16384/5148 [===============================================================================================] - 0s 0us/step\n",
            "Downloading data from https://storage.googleapis.com/tensorflow/tf-keras-datasets/t10k-images-idx3-ubyte.gz\n",
            "4423680/4422102 [==============================] - 0s 0us/step\n",
            "4431872/4422102 [==============================] - 0s 0us/step\n"
          ]
        }
      ]
    },
    {
      "cell_type": "code",
      "metadata": {
        "colab": {
          "base_uri": "https://localhost:8080/"
        },
        "id": "6i62AuY2FwJj",
        "outputId": "58242793-d32b-4390-9c66-70a9f51a1cfe"
      },
      "source": [
        "# näytetään datan dimensiot -> pitäisi olla:\n",
        "# opetusdataa 60000 kuvaa (28x28) ja niiden luokat sekä testidatana 10000 kuvaa ja niiden luokat\n",
        "print('Opetusdata:', x_train.shape, y_train.shape)\n",
        "print('Testidata:', x_test.shape, y_test.shape)"
      ],
      "execution_count": 5,
      "outputs": [
        {
          "output_type": "stream",
          "name": "stdout",
          "text": [
            "Opetusdata: (60000, 28, 28) (60000,)\n",
            "Testidata: (10000, 28, 28) (10000,)\n"
          ]
        }
      ]
    },
    {
      "cell_type": "code",
      "metadata": {
        "id": "0aaeeCPxICuz"
      },
      "source": [
        "#skaalataan kuva arvot (samalla tyyppi vaihtuu)\n",
        "x_train = x_train / 255.0\n",
        "x_test = x_test / 255.0"
      ],
      "execution_count": 6,
      "outputs": []
    },
    {
      "cell_type": "code",
      "metadata": {
        "colab": {
          "base_uri": "https://localhost:8080/",
          "height": 809
        },
        "id": "4nrM_x8oGarc",
        "outputId": "c037096f-0203-4f51-a784-ef560d55102b"
      },
      "source": [
        "# otetaan muutama kuva ja katsotaan miltä ne näyttävät\n",
        "def show_training_image(index):\n",
        "  img_label = str(y_train[index]) + ' (' + class_names[y_train[index]] + ')'\n",
        "  plt.figure()\n",
        "  plt.title('Kuvan luokitus ' + img_label)\n",
        "  plt.imshow(x_train[index], cmap='gray')\n",
        "  plt.colorbar()\n",
        "  plt.show()\n",
        "\n",
        "img_index = 100\n",
        "show_training_image(img_index)\n",
        "img_index = 208\n",
        "show_training_image(img_index)\n",
        "img_index = 307\n",
        "show_training_image(img_index)"
      ],
      "execution_count": 7,
      "outputs": [
        {
          "output_type": "display_data",
          "data": {
            "image/png": "[encoded data removed]",
            "text/plain": [
              "<Figure size 432x288 with 2 Axes>"
            ]
          },
          "metadata": {
            "needs_background": "light"
          }
        },
        {
          "output_type": "display_data",
          "data": {
            "image/png": "[encoded data removed]",
            "text/plain": [
              "<Figure size 432x288 with 2 Axes>"
            ]
          },
          "metadata": {
            "needs_background": "light"
          }
        },
        {
          "output_type": "display_data",
          "data": {
            "image/png": "[encoded data removed]",
            "text/plain": [
              "<Figure size 432x288 with 2 Axes>"
            ]
          },
          "metadata": {
            "needs_background": "light"
          }
        }
      ]
    },
    {
      "cell_type": "code",
      "metadata": {
        "id": "m_yz4reXIw3X"
      },
      "source": [
        "# eteenpäin syöttävä neuroverkko\n",
        "model = Sequential()\n",
        "model.add(Flatten(input_shape=(28,28)))    #prosessoidaan syöte vektoriksi 28 x 28 --> 784 arvoa (ei neuroneita)\n",
        "model.add(Dense(128, activation='relu', name='piilokerros-128-relu'))    # 128 neuronia yhdistettynö jokaiseen 784 pikseliin (syötearvoihin)\n",
        "model.add(Dense(10, activation='softmax', name='tuloskerros-10-softmax'))   # 10 luokka-arvon todennäköisyydet"
      ],
      "execution_count": 8,
      "outputs": []
    },
    {
      "cell_type": "code",
      "metadata": {
        "colab": {
          "base_uri": "https://localhost:8080/"
        },
        "id": "n4BfD_OyMS2Q",
        "outputId": "2e5fffed-8916-4c4b-dcde-ee517d310842"
      },
      "source": [
        "# näytetään mallin rakenne\n",
        "print('Syötteen muoto:', x_train.shape)\n",
        "print()\n",
        "print(model.summary())"
      ],
      "execution_count": 9,
      "outputs": [
        {
          "output_type": "stream",
          "name": "stdout",
          "text": [
            "Syötteen muoto: (60000, 28, 28)\n",
            "\n",
            "Model: \"sequential\"\n",
            "_________________________________________________________________\n",
            " Layer (type)                Output Shape              Param #   \n",
            "=================================================================\n",
            " flatten (Flatten)           (None, 784)               0         \n",
            "                                                                 \n",
            " piilokerros-128-relu (Dense  (None, 128)              100480    \n",
            " )                                                               \n",
            "                                                                 \n",
            " tuloskerros-10-softmax (Den  (None, 10)               1290      \n",
            " se)                                                             \n",
            "                                                                 \n",
            "=================================================================\n",
            "Total params: 101,770\n",
            "Trainable params: 101,770\n",
            "Non-trainable params: 0\n",
            "_________________________________________________________________\n",
            "None\n"
          ]
        }
      ]
    },
    {
      "cell_type": "code",
      "metadata": {
        "id": "fkChP8GhM1pE"
      },
      "source": [
        "# mallin optimointi\n",
        "model.compile(optimizer='adam',\n",
        "              loss='sparse_categorical_crossentropy',\n",
        "              metrics=['accuracy'])"
      ],
      "execution_count": 10,
      "outputs": []
    },
    {
      "cell_type": "code",
      "metadata": {
        "colab": {
          "base_uri": "https://localhost:8080/"
        },
        "id": "aDJWcna5NLtB",
        "outputId": "4842eb6c-98aa-4413-cb99-86b0f312df48"
      },
      "source": [
        "hist = model.fit(x_train, y_train, epochs=40)   #epochs = opetuskierroksien määrä"
      ],
      "execution_count": 11,
      "outputs": [
        {
          "output_type": "stream",
          "name": "stdout",
          "text": [
            "Epoch 1/40\n",
            "1875/1875 [==============================] - 4s 2ms/step - loss: 0.4948 - accuracy: 0.8255\n",
            "Epoch 2/40\n",
            "1875/1875 [==============================] - 4s 2ms/step - loss: 0.3745 - accuracy: 0.8661\n",
            "Epoch 3/40\n",
            "1875/1875 [==============================] - 4s 2ms/step - loss: 0.3376 - accuracy: 0.8762\n",
            "Epoch 4/40\n",
            "1875/1875 [==============================] - 4s 2ms/step - loss: 0.3118 - accuracy: 0.8860\n",
            "Epoch 5/40\n",
            "1875/1875 [==============================] - 4s 2ms/step - loss: 0.2953 - accuracy: 0.8922\n",
            "Epoch 6/40\n",
            "1875/1875 [==============================] - 4s 2ms/step - loss: 0.2811 - accuracy: 0.8957\n",
            "Epoch 7/40\n",
            "1875/1875 [==============================] - 4s 2ms/step - loss: 0.2687 - accuracy: 0.8993\n",
            "Epoch 8/40\n",
            "1875/1875 [==============================] - 4s 2ms/step - loss: 0.2561 - accuracy: 0.9043\n",
            "Epoch 9/40\n",
            "1875/1875 [==============================] - 4s 2ms/step - loss: 0.2489 - accuracy: 0.9092\n",
            "Epoch 10/40\n",
            "1875/1875 [==============================] - 4s 2ms/step - loss: 0.2410 - accuracy: 0.9101\n",
            "Epoch 11/40\n",
            "1875/1875 [==============================] - 4s 2ms/step - loss: 0.2304 - accuracy: 0.9147\n",
            "Epoch 12/40\n",
            "1875/1875 [==============================] - 6s 3ms/step - loss: 0.2259 - accuracy: 0.9156\n",
            "Epoch 13/40\n",
            "1875/1875 [==============================] - 4s 2ms/step - loss: 0.2173 - accuracy: 0.9186\n",
            "Epoch 14/40\n",
            "1875/1875 [==============================] - 4s 2ms/step - loss: 0.2102 - accuracy: 0.9202\n",
            "Epoch 15/40\n",
            "1875/1875 [==============================] - 4s 2ms/step - loss: 0.2071 - accuracy: 0.9226\n",
            "Epoch 16/40\n",
            "1875/1875 [==============================] - 4s 2ms/step - loss: 0.2017 - accuracy: 0.9247\n",
            "Epoch 17/40\n",
            "1875/1875 [==============================] - 4s 2ms/step - loss: 0.1952 - accuracy: 0.9260\n",
            "Epoch 18/40\n",
            "1875/1875 [==============================] - 4s 2ms/step - loss: 0.1887 - accuracy: 0.9280\n",
            "Epoch 19/40\n",
            "1875/1875 [==============================] - 4s 2ms/step - loss: 0.1849 - accuracy: 0.9303\n",
            "Epoch 20/40\n",
            "1875/1875 [==============================] - 4s 2ms/step - loss: 0.1825 - accuracy: 0.9317\n",
            "Epoch 21/40\n",
            "1875/1875 [==============================] - 4s 2ms/step - loss: 0.1753 - accuracy: 0.9340\n",
            "Epoch 22/40\n",
            "1875/1875 [==============================] - 4s 2ms/step - loss: 0.1718 - accuracy: 0.9342\n",
            "Epoch 23/40\n",
            "1875/1875 [==============================] - 4s 2ms/step - loss: 0.1688 - accuracy: 0.9367\n",
            "Epoch 24/40\n",
            "1875/1875 [==============================] - 4s 2ms/step - loss: 0.1625 - accuracy: 0.9384\n",
            "Epoch 25/40\n",
            "1875/1875 [==============================] - 4s 2ms/step - loss: 0.1590 - accuracy: 0.9401\n",
            "Epoch 26/40\n",
            "1875/1875 [==============================] - 4s 2ms/step - loss: 0.1563 - accuracy: 0.9416\n",
            "Epoch 27/40\n",
            "1875/1875 [==============================] - 4s 2ms/step - loss: 0.1540 - accuracy: 0.9424\n",
            "Epoch 28/40\n",
            "1875/1875 [==============================] - 4s 2ms/step - loss: 0.1513 - accuracy: 0.9435\n",
            "Epoch 29/40\n",
            "1875/1875 [==============================] - 4s 2ms/step - loss: 0.1468 - accuracy: 0.9444\n",
            "Epoch 30/40\n",
            "1875/1875 [==============================] - 4s 2ms/step - loss: 0.1416 - accuracy: 0.9462\n",
            "Epoch 31/40\n",
            "1875/1875 [==============================] - 4s 2ms/step - loss: 0.1398 - accuracy: 0.9481\n",
            "Epoch 32/40\n",
            "1875/1875 [==============================] - 4s 2ms/step - loss: 0.1397 - accuracy: 0.9468\n",
            "Epoch 33/40\n",
            "1875/1875 [==============================] - 4s 2ms/step - loss: 0.1348 - accuracy: 0.9498\n",
            "Epoch 34/40\n",
            "1875/1875 [==============================] - 4s 2ms/step - loss: 0.1326 - accuracy: 0.9495\n",
            "Epoch 35/40\n",
            "1875/1875 [==============================] - 4s 2ms/step - loss: 0.1291 - accuracy: 0.9511\n",
            "Epoch 36/40\n",
            "1875/1875 [==============================] - 4s 2ms/step - loss: 0.1282 - accuracy: 0.9513\n",
            "Epoch 37/40\n",
            "1875/1875 [==============================] - 4s 2ms/step - loss: 0.1245 - accuracy: 0.9524\n",
            "Epoch 38/40\n",
            "1875/1875 [==============================] - 4s 2ms/step - loss: 0.1229 - accuracy: 0.9535\n",
            "Epoch 39/40\n",
            "1875/1875 [==============================] - 4s 2ms/step - loss: 0.1212 - accuracy: 0.9542\n",
            "Epoch 40/40\n",
            "1875/1875 [==============================] - 4s 2ms/step - loss: 0.1186 - accuracy: 0.9556\n"
          ]
        }
      ]
    },
    {
      "cell_type": "code",
      "metadata": {
        "colab": {
          "base_uri": "https://localhost:8080/",
          "height": 573
        },
        "id": "-M-TSOjyN450",
        "outputId": "f5d26c89-6946-4565-df91-a9f3fcdf653f"
      },
      "source": [
        "def plot_acc(hist):\n",
        "  plt.title('Tarkkuuden muutos')\n",
        "  plt.plot(hist.history['accuracy'])\n",
        "  plt.ylabel('Tarkkuus')\n",
        "  plt.xlabel('toistojen määrä (epoch)')\n",
        "  plt.show()\n",
        "\n",
        "def plot_loss(hist):\n",
        "  plt.title('Virheen muutos')\n",
        "  plt.plot(hist.history['loss'])\n",
        "  plt.ylabel('Virhe (loss)')\n",
        "  plt.xlabel('toistojen määrä (epoch)')\n",
        "  plt.show()\n",
        "\n",
        "plot_loss(hist)\n",
        "plot_acc(hist)\n",
        "\n"
      ],
      "execution_count": 12,
      "outputs": [
        {
          "output_type": "display_data",
          "data": {
            "image/png": "[encoded data removed]",
            "text/plain": [
              "<Figure size 432x288 with 1 Axes>"
            ]
          },
          "metadata": {
            "needs_background": "light"
          }
        },
        {
          "output_type": "display_data",
          "data": {
            "image/png": "[encoded data removed]",
            "text/plain": [
              "<Figure size 432x288 with 1 Axes>"
            ]
          },
          "metadata": {
            "needs_background": "light"
          }
        }
      ]
    },
    {
      "cell_type": "code",
      "metadata": {
        "colab": {
          "base_uri": "https://localhost:8080/"
        },
        "id": "ijvOv-CaPZMi",
        "outputId": "8bdf745e-d8be-4b47-a7ce-1e4360d8aa48"
      },
      "source": [
        "# suurin mahdollinen tarkkuus\n",
        "test_loss, test_acc = model.evaluate(x_test, y_test, verbose = 0)\n",
        "\n",
        "print('max opetusdatan tarkkuus:', max(hist.history['accuracy']), 'testidatan tarkkuus:', test_acc)"
      ],
      "execution_count": 13,
      "outputs": [
        {
          "output_type": "stream",
          "name": "stdout",
          "text": [
            "max opetusdatan tarkkuus: 0.9556499719619751 testidatan tarkkuus: 0.8866000175476074\n"
          ]
        }
      ]
    },
    {
      "cell_type": "code",
      "metadata": {
        "colab": {
          "base_uri": "https://localhost:8080/"
        },
        "id": "QsXGSrjcQNK4",
        "outputId": "4e936a70-4063-4996-ab37-331d6b4eb552"
      },
      "source": [
        "# muutetaan mallia\n",
        "# vähennetään piilokerroksen neuronien määrää 128 -> 64\n",
        "model = Sequential()\n",
        "model.add(Flatten(input_shape=(28,28)))    #prosessoidaan syöte vektoriksi 28 x 28 --> 784 arvoa (ei neuroneita)\n",
        "model.add(Dense(64, activation='relu', name='piilokerros-64-relu'))    # 64 neuronia yhdistettynö jokaiseen 784 pikseliin (syötearvoihin)\n",
        "model.add(Dense(10, activation='softmax', name='tuloskerros-10-softmax'))  #10 luokka-arvon todennäköisyydet\n",
        "\n",
        "# konfiguroidaan malli\n",
        "model.compile(optimizer='adam',\n",
        "              loss='sparse_categorical_crossentropy',\n",
        "              metrics=['accuracy'])\n",
        "\n",
        "#opetetaan ja validoidaan testidatalla\n",
        "hist = model.fit(x_train, y_train, epochs=40,\n",
        "                 validation_data=(x_test, y_test))"
      ],
      "execution_count": 14,
      "outputs": [
        {
          "output_type": "stream",
          "name": "stdout",
          "text": [
            "Epoch 1/40\n",
            "1875/1875 [==============================] - 9s 5ms/step - loss: 0.5238 - accuracy: 0.8200 - val_loss: 0.4499 - val_accuracy: 0.8408\n",
            "Epoch 2/40\n",
            "1875/1875 [==============================] - 8s 4ms/step - loss: 0.3968 - accuracy: 0.8598 - val_loss: 0.4036 - val_accuracy: 0.8571\n",
            "Epoch 3/40\n",
            "1875/1875 [==============================] - 5s 2ms/step - loss: 0.3587 - accuracy: 0.8718 - val_loss: 0.4247 - val_accuracy: 0.8481\n",
            "Epoch 4/40\n",
            "1875/1875 [==============================] - 4s 2ms/step - loss: 0.3303 - accuracy: 0.8805 - val_loss: 0.3771 - val_accuracy: 0.8651\n",
            "Epoch 5/40\n",
            "1875/1875 [==============================] - 4s 2ms/step - loss: 0.3126 - accuracy: 0.8853 - val_loss: 0.3756 - val_accuracy: 0.8643\n",
            "Epoch 6/40\n",
            "1875/1875 [==============================] - 4s 2ms/step - loss: 0.3001 - accuracy: 0.8903 - val_loss: 0.3616 - val_accuracy: 0.8722\n",
            "Epoch 7/40\n",
            "1875/1875 [==============================] - 4s 2ms/step - loss: 0.2886 - accuracy: 0.8938 - val_loss: 0.3620 - val_accuracy: 0.8688\n",
            "Epoch 8/40\n",
            "1875/1875 [==============================] - 4s 2ms/step - loss: 0.2790 - accuracy: 0.8972 - val_loss: 0.3893 - val_accuracy: 0.8600\n",
            "Epoch 9/40\n",
            "1875/1875 [==============================] - 4s 2ms/step - loss: 0.2720 - accuracy: 0.9003 - val_loss: 0.3563 - val_accuracy: 0.8772\n",
            "Epoch 10/40\n",
            "1875/1875 [==============================] - 4s 2ms/step - loss: 0.2642 - accuracy: 0.9030 - val_loss: 0.3529 - val_accuracy: 0.8764\n",
            "Epoch 11/40\n",
            "1875/1875 [==============================] - 4s 2ms/step - loss: 0.2554 - accuracy: 0.9065 - val_loss: 0.3423 - val_accuracy: 0.8827\n",
            "Epoch 12/40\n",
            "1875/1875 [==============================] - 4s 2ms/step - loss: 0.2501 - accuracy: 0.9076 - val_loss: 0.3453 - val_accuracy: 0.8798\n",
            "Epoch 13/40\n",
            "1875/1875 [==============================] - 4s 2ms/step - loss: 0.2424 - accuracy: 0.9102 - val_loss: 0.3514 - val_accuracy: 0.8795\n",
            "Epoch 14/40\n",
            "1875/1875 [==============================] - 4s 2ms/step - loss: 0.2383 - accuracy: 0.9112 - val_loss: 0.3465 - val_accuracy: 0.8809\n",
            "Epoch 15/40\n",
            "1875/1875 [==============================] - 4s 2ms/step - loss: 0.2315 - accuracy: 0.9130 - val_loss: 0.3463 - val_accuracy: 0.8815\n",
            "Epoch 16/40\n",
            "1875/1875 [==============================] - 4s 2ms/step - loss: 0.2267 - accuracy: 0.9154 - val_loss: 0.3463 - val_accuracy: 0.8841\n",
            "Epoch 17/40\n",
            "1875/1875 [==============================] - 4s 2ms/step - loss: 0.2219 - accuracy: 0.9176 - val_loss: 0.3638 - val_accuracy: 0.8768\n",
            "Epoch 18/40\n",
            "1875/1875 [==============================] - 4s 2ms/step - loss: 0.2180 - accuracy: 0.9188 - val_loss: 0.3615 - val_accuracy: 0.8793\n",
            "Epoch 19/40\n",
            "1875/1875 [==============================] - 4s 2ms/step - loss: 0.2149 - accuracy: 0.9211 - val_loss: 0.3757 - val_accuracy: 0.8797\n",
            "Epoch 20/40\n",
            "1875/1875 [==============================] - 4s 2ms/step - loss: 0.2102 - accuracy: 0.9227 - val_loss: 0.3675 - val_accuracy: 0.8816\n",
            "Epoch 21/40\n",
            "1875/1875 [==============================] - 4s 2ms/step - loss: 0.2068 - accuracy: 0.9233 - val_loss: 0.3612 - val_accuracy: 0.8844\n",
            "Epoch 22/40\n",
            "1875/1875 [==============================] - 4s 2ms/step - loss: 0.2033 - accuracy: 0.9238 - val_loss: 0.3641 - val_accuracy: 0.8815\n",
            "Epoch 23/40\n",
            "1875/1875 [==============================] - 4s 2ms/step - loss: 0.1998 - accuracy: 0.9253 - val_loss: 0.3809 - val_accuracy: 0.8747\n",
            "Epoch 24/40\n",
            "1875/1875 [==============================] - 4s 2ms/step - loss: 0.1958 - accuracy: 0.9274 - val_loss: 0.3722 - val_accuracy: 0.8801\n",
            "Epoch 25/40\n",
            "1875/1875 [==============================] - 4s 2ms/step - loss: 0.1936 - accuracy: 0.9278 - val_loss: 0.3775 - val_accuracy: 0.8812\n",
            "Epoch 26/40\n",
            "1875/1875 [==============================] - 4s 2ms/step - loss: 0.1913 - accuracy: 0.9293 - val_loss: 0.3658 - val_accuracy: 0.8856\n",
            "Epoch 27/40\n",
            "1875/1875 [==============================] - 4s 2ms/step - loss: 0.1877 - accuracy: 0.9306 - val_loss: 0.3860 - val_accuracy: 0.8765\n",
            "Epoch 28/40\n",
            "1875/1875 [==============================] - 6s 3ms/step - loss: 0.1842 - accuracy: 0.9316 - val_loss: 0.3781 - val_accuracy: 0.8794\n",
            "Epoch 29/40\n",
            "1875/1875 [==============================] - 4s 2ms/step - loss: 0.1818 - accuracy: 0.9327 - val_loss: 0.4022 - val_accuracy: 0.8781\n",
            "Epoch 30/40\n",
            "1875/1875 [==============================] - 4s 2ms/step - loss: 0.1801 - accuracy: 0.9334 - val_loss: 0.3770 - val_accuracy: 0.8841\n",
            "Epoch 31/40\n",
            "1875/1875 [==============================] - 4s 2ms/step - loss: 0.1765 - accuracy: 0.9336 - val_loss: 0.3920 - val_accuracy: 0.8841\n",
            "Epoch 32/40\n",
            "1875/1875 [==============================] - 4s 2ms/step - loss: 0.1760 - accuracy: 0.9342 - val_loss: 0.3848 - val_accuracy: 0.8833\n",
            "Epoch 33/40\n",
            "1875/1875 [==============================] - 4s 2ms/step - loss: 0.1717 - accuracy: 0.9366 - val_loss: 0.3785 - val_accuracy: 0.8839\n",
            "Epoch 34/40\n",
            "1875/1875 [==============================] - 4s 2ms/step - loss: 0.1695 - accuracy: 0.9368 - val_loss: 0.4103 - val_accuracy: 0.8809\n",
            "Epoch 35/40\n",
            "1875/1875 [==============================] - 4s 2ms/step - loss: 0.1675 - accuracy: 0.9366 - val_loss: 0.3999 - val_accuracy: 0.8753\n",
            "Epoch 36/40\n",
            "1875/1875 [==============================] - 4s 2ms/step - loss: 0.1649 - accuracy: 0.9378 - val_loss: 0.3994 - val_accuracy: 0.8841\n",
            "Epoch 37/40\n",
            "1875/1875 [==============================] - 4s 2ms/step - loss: 0.1641 - accuracy: 0.9395 - val_loss: 0.4217 - val_accuracy: 0.8754\n",
            "Epoch 38/40\n",
            "1875/1875 [==============================] - 4s 2ms/step - loss: 0.1610 - accuracy: 0.9401 - val_loss: 0.4126 - val_accuracy: 0.8841\n",
            "Epoch 39/40\n",
            "1875/1875 [==============================] - 4s 2ms/step - loss: 0.1583 - accuracy: 0.9412 - val_loss: 0.4344 - val_accuracy: 0.8758\n",
            "Epoch 40/40\n",
            "1875/1875 [==============================] - 4s 2ms/step - loss: 0.1575 - accuracy: 0.9409 - val_loss: 0.4246 - val_accuracy: 0.8790\n"
          ]
        }
      ]
    },
    {
      "cell_type": "code",
      "metadata": {
        "colab": {
          "base_uri": "https://localhost:8080/"
        },
        "id": "jqMOfFdYSBIY",
        "outputId": "d1fa274e-cd8f-4f3c-fdf9-45ef03ce9c7e"
      },
      "source": [
        "print(model.summary())"
      ],
      "execution_count": 15,
      "outputs": [
        {
          "output_type": "stream",
          "name": "stdout",
          "text": [
            "Model: \"sequential_1\"\n",
            "_________________________________________________________________\n",
            " Layer (type)                Output Shape              Param #   \n",
            "=================================================================\n",
            " flatten_1 (Flatten)         (None, 784)               0         \n",
            "                                                                 \n",
            " piilokerros-64-relu (Dense)  (None, 64)               50240     \n",
            "                                                                 \n",
            " tuloskerros-10-softmax (Den  (None, 10)               650       \n",
            " se)                                                             \n",
            "                                                                 \n",
            "=================================================================\n",
            "Total params: 50,890\n",
            "Trainable params: 50,890\n",
            "Non-trainable params: 0\n",
            "_________________________________________________________________\n",
            "None\n"
          ]
        }
      ]
    },
    {
      "cell_type": "code",
      "metadata": {
        "id": "U5THZTNnSM8t"
      },
      "source": [
        "# toteutetaan early stopping\n",
        "early_stopping_callback = EarlyStopping(monitor='val_loss', patience=4)"
      ],
      "execution_count": 16,
      "outputs": []
    },
    {
      "cell_type": "code",
      "metadata": {
        "colab": {
          "base_uri": "https://localhost:8080/"
        },
        "id": "cykObPiLTbI3",
        "outputId": "8b5b34f8-42de-4ce9-b3d7-dfea4daa8fdc"
      },
      "source": [
        "#opetetaan ja validoidaan testidatalla, lisätty early stopping callback\n",
        "hist = model.fit(x_train, y_train, epochs=40,\n",
        "                 validation_data=(x_test, y_test),\n",
        "                 callbacks=[early_stopping_callback])"
      ],
      "execution_count": 17,
      "outputs": [
        {
          "output_type": "stream",
          "name": "stdout",
          "text": [
            "Epoch 1/40\n",
            "1875/1875 [==============================] - 4s 2ms/step - loss: 0.1547 - accuracy: 0.9420 - val_loss: 0.4271 - val_accuracy: 0.8800\n",
            "Epoch 2/40\n",
            "1875/1875 [==============================] - 4s 2ms/step - loss: 0.1551 - accuracy: 0.9423 - val_loss: 0.4153 - val_accuracy: 0.8792\n",
            "Epoch 3/40\n",
            "1875/1875 [==============================] - 4s 2ms/step - loss: 0.1532 - accuracy: 0.9420 - val_loss: 0.4248 - val_accuracy: 0.8841\n",
            "Epoch 4/40\n",
            "1875/1875 [==============================] - 4s 2ms/step - loss: 0.1497 - accuracy: 0.9446 - val_loss: 0.4135 - val_accuracy: 0.8823\n",
            "Epoch 5/40\n",
            "1875/1875 [==============================] - 4s 2ms/step - loss: 0.1490 - accuracy: 0.9445 - val_loss: 0.4339 - val_accuracy: 0.8829\n",
            "Epoch 6/40\n",
            "1875/1875 [==============================] - 4s 2ms/step - loss: 0.1463 - accuracy: 0.9449 - val_loss: 0.4647 - val_accuracy: 0.8791\n",
            "Epoch 7/40\n",
            "1875/1875 [==============================] - 4s 2ms/step - loss: 0.1453 - accuracy: 0.9457 - val_loss: 0.4527 - val_accuracy: 0.8835\n",
            "Epoch 8/40\n",
            "1875/1875 [==============================] - 4s 2ms/step - loss: 0.1440 - accuracy: 0.9465 - val_loss: 0.4738 - val_accuracy: 0.8832\n"
          ]
        }
      ]
    },
    {
      "cell_type": "code",
      "metadata": {
        "colab": {
          "base_uri": "https://localhost:8080/"
        },
        "id": "VpQUmKCiT7lT",
        "outputId": "d383c0b4-716b-4605-ed6e-3cce05b09ab4"
      },
      "source": [
        "# muutetaan alkuperäistä mallia\n",
        "#jätetään satunnaisesti pois joitain neuroneita\n",
        "model = Sequential()\n",
        "model.add(Flatten(input_shape=(28,28)))    #prosessoidaan syöte vektoriksi 28 x 28 --> 784 arvoa (ei neuroneita)\n",
        "model.add(Dense(128, activation='relu', name='piilokerros-128-relu'))    # 128 neuronia yhdistettynö jokaiseen 784 pikseliin (syötearvoihin)\n",
        "model.add(Dropout(0.2))  # pudotetaam neuroneista 20% pois (eli 128*0.2 = 25.6 = 25 neuronia)\n",
        "model.add(Dense(10, activation='softmax', name='tuloskerros-10-softmax'))  #10 luokka-arvon todennäköisyydet\n",
        "\n",
        "# konfiguroidaan malli\n",
        "model.compile(optimizer='adam',\n",
        "              loss='sparse_categorical_crossentropy',\n",
        "              metrics=['accuracy'])\n",
        "\n",
        "# opetetaan ja validoidaan testidatalla\n",
        "hist = model.fit(x_train, y_train, epochs=40,\n",
        "                 validation_data=(x_test, y_test),\n",
        "                 callbacks=[early_stopping_callback])\n"
      ],
      "execution_count": 18,
      "outputs": [
        {
          "output_type": "stream",
          "name": "stdout",
          "text": [
            "Epoch 1/40\n",
            "1875/1875 [==============================] - 5s 3ms/step - loss: 0.5350 - accuracy: 0.8111 - val_loss: 0.4445 - val_accuracy: 0.8361\n",
            "Epoch 2/40\n",
            "1875/1875 [==============================] - 5s 2ms/step - loss: 0.4022 - accuracy: 0.8543 - val_loss: 0.4081 - val_accuracy: 0.8517\n",
            "Epoch 3/40\n",
            "1875/1875 [==============================] - 5s 2ms/step - loss: 0.3674 - accuracy: 0.8660 - val_loss: 0.3857 - val_accuracy: 0.8638\n",
            "Epoch 4/40\n",
            "1875/1875 [==============================] - 4s 2ms/step - loss: 0.3489 - accuracy: 0.8710 - val_loss: 0.3950 - val_accuracy: 0.8566\n",
            "Epoch 5/40\n",
            "1875/1875 [==============================] - 4s 2ms/step - loss: 0.3321 - accuracy: 0.8770 - val_loss: 0.3658 - val_accuracy: 0.8666\n",
            "Epoch 6/40\n",
            "1875/1875 [==============================] - 4s 2ms/step - loss: 0.3225 - accuracy: 0.8805 - val_loss: 0.3516 - val_accuracy: 0.8744\n",
            "Epoch 7/40\n",
            "1875/1875 [==============================] - 5s 3ms/step - loss: 0.3085 - accuracy: 0.8851 - val_loss: 0.3465 - val_accuracy: 0.8737\n",
            "Epoch 8/40\n",
            "1875/1875 [==============================] - 5s 2ms/step - loss: 0.2989 - accuracy: 0.8892 - val_loss: 0.3466 - val_accuracy: 0.8761\n",
            "Epoch 9/40\n",
            "1875/1875 [==============================] - 4s 2ms/step - loss: 0.2919 - accuracy: 0.8922 - val_loss: 0.3447 - val_accuracy: 0.8763\n",
            "Epoch 10/40\n",
            "1875/1875 [==============================] - 4s 2ms/step - loss: 0.2849 - accuracy: 0.8935 - val_loss: 0.3447 - val_accuracy: 0.8784\n",
            "Epoch 11/40\n",
            "1875/1875 [==============================] - 5s 2ms/step - loss: 0.2784 - accuracy: 0.8951 - val_loss: 0.3628 - val_accuracy: 0.8694\n",
            "Epoch 12/40\n",
            "1875/1875 [==============================] - 5s 2ms/step - loss: 0.2710 - accuracy: 0.8970 - val_loss: 0.3592 - val_accuracy: 0.8750\n",
            "Epoch 13/40\n",
            "1875/1875 [==============================] - 5s 2ms/step - loss: 0.2648 - accuracy: 0.9008 - val_loss: 0.3387 - val_accuracy: 0.8842\n",
            "Epoch 14/40\n",
            "1875/1875 [==============================] - 5s 2ms/step - loss: 0.2614 - accuracy: 0.9010 - val_loss: 0.3247 - val_accuracy: 0.8871\n",
            "Epoch 15/40\n",
            "1875/1875 [==============================] - 5s 2ms/step - loss: 0.2593 - accuracy: 0.9026 - val_loss: 0.3326 - val_accuracy: 0.8862\n",
            "Epoch 16/40\n",
            "1875/1875 [==============================] - 4s 2ms/step - loss: 0.2529 - accuracy: 0.9044 - val_loss: 0.3335 - val_accuracy: 0.8846\n",
            "Epoch 17/40\n",
            "1875/1875 [==============================] - 4s 2ms/step - loss: 0.2485 - accuracy: 0.9067 - val_loss: 0.3527 - val_accuracy: 0.8817\n",
            "Epoch 18/40\n",
            "1875/1875 [==============================] - 4s 2ms/step - loss: 0.2453 - accuracy: 0.9078 - val_loss: 0.3464 - val_accuracy: 0.8810\n"
          ]
        }
      ]
    }
  ]
}